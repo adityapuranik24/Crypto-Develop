{
 "cells": [
  {
   "cell_type": "code",
   "execution_count": 5,
   "metadata": {},
   "outputs": [],
   "source": [
    "from kafka import KafkaProducer\n",
    "# from confluent_kafka import Producer\n",
    "from time import sleep\n",
    "from json import dumps\n",
    "import sys\n",
    "# sys.path.append('D:/Projects/Crypto/Scripts/API')\n",
    "sys.path.extend([\n",
    "    'D:/Projects/Crypto-Develop/Crypto-Develop/Scripts/API'\n",
    "])\n",
    "import platforms as pl"
   ]
  },
  {
   "cell_type": "code",
   "execution_count": 6,
   "metadata": {},
   "outputs": [
    {
     "ename": "AttributeError",
     "evalue": "module 'platforms' has no attribute 'coins_list'",
     "output_type": "error",
     "traceback": [
      "\u001b[1;31m---------------------------------------------------------------------------\u001b[0m",
      "\u001b[1;31mAttributeError\u001b[0m                            Traceback (most recent call last)",
      "Cell \u001b[1;32mIn[6], line 1\u001b[0m\n\u001b[1;32m----> 1\u001b[0m data \u001b[38;5;241m=\u001b[39m \u001b[43mpl\u001b[49m\u001b[38;5;241;43m.\u001b[39;49m\u001b[43mcoins_list\u001b[49m()\n\u001b[0;32m      2\u001b[0m data\n",
      "\u001b[1;31mAttributeError\u001b[0m: module 'platforms' has no attribute 'coins_list'"
     ]
    }
   ],
   "source": [
    "data = pl.coins_list()\n",
    "data"
   ]
  },
  {
   "cell_type": "code",
   "execution_count": 4,
   "metadata": {},
   "outputs": [
    {
     "ename": "AttributeError",
     "evalue": "module 'platforms' has no attribute 'coins_list'",
     "output_type": "error",
     "traceback": [
      "\u001b[1;31m---------------------------------------------------------------------------\u001b[0m",
      "\u001b[1;31mAttributeError\u001b[0m                            Traceback (most recent call last)",
      "Cell \u001b[1;32mIn[4], line 11\u001b[0m\n\u001b[0;32m      7\u001b[0m sleep(\u001b[38;5;241m20\u001b[39m)\n\u001b[0;32m      8\u001b[0m \u001b[38;5;28;01mtry\u001b[39;00m:\n\u001b[0;32m      9\u001b[0m     \n\u001b[0;32m     10\u001b[0m     \u001b[38;5;66;03m# Fetch data from API\u001b[39;00m\n\u001b[1;32m---> 11\u001b[0m     data \u001b[38;5;241m=\u001b[39m \u001b[43mpl\u001b[49m\u001b[38;5;241;43m.\u001b[39;49m\u001b[43mcoins_list\u001b[49m()\n\u001b[0;32m     12\u001b[0m     \u001b[38;5;28;01mif\u001b[39;00m \u001b[38;5;124m'\u001b[39m\u001b[38;5;124merror\u001b[39m\u001b[38;5;124m'\u001b[39m \u001b[38;5;129;01min\u001b[39;00m data:\n\u001b[0;32m     13\u001b[0m         \u001b[38;5;28;01mraise\u001b[39;00m APICallError(\u001b[38;5;124mf\u001b[39m\u001b[38;5;124m\"\u001b[39m\u001b[38;5;124mAPI Error: \u001b[39m\u001b[38;5;132;01m{\u001b[39;00mdata[\u001b[38;5;124m'\u001b[39m\u001b[38;5;124merror\u001b[39m\u001b[38;5;124m'\u001b[39m][\u001b[38;5;124m'\u001b[39m\u001b[38;5;124mdescription\u001b[39m\u001b[38;5;124m'\u001b[39m]\u001b[38;5;132;01m}\u001b[39;00m\u001b[38;5;124m\"\u001b[39m)\n",
      "\u001b[1;31mAttributeError\u001b[0m: module 'platforms' has no attribute 'coins_list'"
     ]
    }
   ],
   "source": [
    "#Creating custom Exception\n",
    "class APICallError(Exception):\n",
    "    \"\"\"Raised when there is an error during an API call\"\"\"\n",
    "    pass\n",
    "\n",
    "while True:\n",
    "    sleep(20)\n",
    "    try:\n",
    "        \n",
    "        # Fetch data from API\n",
    "        data = pl.coins_list()\n",
    "        if 'error' in data:\n",
    "            raise APICallError(f\"API Error: {data['error']['description']}\")\n",
    "\n",
    "    except APICallError as api_err:\n",
    "        print(f\"API call failed: {api_err}\")\n",
    "\n",
    "    else:\n",
    "        producer = KafkaProducer(bootstrap_servers=['52.14.28.124:9092'],\n",
    "                                value_serializer=lambda x: dumps(x).encode('utf-8'))\n",
    "        print(producer.send('crypto', value=data))"
   ]
  },
  {
   "cell_type": "code",
   "execution_count": null,
   "metadata": {},
   "outputs": [],
   "source": []
  }
 ],
 "metadata": {
  "kernelspec": {
   "display_name": "Python 3",
   "language": "python",
   "name": "python3"
  },
  "language_info": {
   "codemirror_mode": {
    "name": "ipython",
    "version": 3
   },
   "file_extension": ".py",
   "mimetype": "text/x-python",
   "name": "python",
   "nbconvert_exporter": "python",
   "pygments_lexer": "ipython3",
   "version": "3.9.11"
  }
 },
 "nbformat": 4,
 "nbformat_minor": 2
}
